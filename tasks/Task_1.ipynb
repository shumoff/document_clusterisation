{
 "cells": [
  {
   "cell_type": "markdown",
   "metadata": {
    "pycharm": {}
   },
   "source": [
    "# Задание 1\n",
    "\n",
    "[Свертка списка](https://ru.wikipedia.org/wiki/%D0%A1%D0%B2%D1%91%D1%80%D1%82%D0%BA%D0%B0_%D1%81%D0%BF%D0%B8%D1%81%D0%BA%D0%B0) -  это обобщенная операция над списком, c помощью которой можно преобразовать список в единое значение. Например, рассмотрим реализации свертки слева и свертки справа (левоассоциативную свертку и правоассоциативную свертку):"
   ]
  },
  {
   "cell_type": "code",
   "execution_count": 2,
   "metadata": {
    "pycharm": {
     "is_executing": false
    }
   },
   "outputs": [],
   "source": [
    "def foldl(f, x0, lst):\n",
    "    if not lst:\n",
    "        return x0\n",
    "    return foldl(f, f(x0, lst[0]), lst[1:])\n",
    "\n",
    "def foldr(f, x0, lst):\n",
    "    if not lst:\n",
    "        return x0\n",
    "    return f(lst[0], foldr(f, x0, lst[1:]))"
   ]
  },
  {
   "cell_type": "code",
   "execution_count": 3,
   "metadata": {
    "pycharm": {
     "is_executing": false
    }
   },
   "outputs": [
    {
     "data": {
      "text/plain": [
       "6"
      ]
     },
     "execution_count": 3,
     "metadata": {},
     "output_type": "execute_result"
    }
   ],
   "source": [
    "#сумма\n",
    "foldl(lambda x, y: x + y, 0, [1, 2, 3])"
   ]
  },
  {
   "cell_type": "code",
   "execution_count": 4,
   "metadata": {
    "pycharm": {
     "is_executing": false
    }
   },
   "outputs": [
    {
     "data": {
      "text/plain": [
       "'123'"
      ]
     },
     "execution_count": 4,
     "metadata": {},
     "output_type": "execute_result"
    }
   ],
   "source": [
    "#конкатенация\n",
    "foldl(lambda x, y: '{}{}'.format(x, y), '', [1, 2, 3])"
   ]
  },
  {
   "cell_type": "code",
   "execution_count": 5,
   "metadata": {
    "pycharm": {
     "is_executing": false
    }
   },
   "outputs": [
    {
     "data": {
      "text/plain": [
       "(0.16666666666666666, 1.5)"
      ]
     },
     "execution_count": 5,
     "metadata": {},
     "output_type": "execute_result"
    }
   ],
   "source": [
    "f = lambda x, y: x / y\n",
    "foldl(f, 1, [1, 2, 3]), \\\n",
    "foldr(f, 1, [1, 2, 3])"
   ]
  },
  {
   "cell_type": "markdown",
   "metadata": {
    "pycharm": {}
   },
   "source": [
    "Задача: реализовать foldl через foldr и наоборот. Вместо многоточий нужно вставить выражения, которые бы привели к нужному результату."
   ]
  },
  {
   "cell_type": "code",
   "execution_count": 44,
   "metadata": {
    "pycharm": {}
   },
   "outputs": [],
   "source": [
    "def foldl2(f, x0, lst):\n",
    "    return foldr(lambda x, y: f(y, x), x0, lst[::-1])"
   ]
  },
  {
   "cell_type": "code",
   "execution_count": 45,
   "metadata": {
    "pycharm": {}
   },
   "outputs": [],
   "source": [
    "def foldr2(f, x0, lst):\n",
    "    return foldl(lambda x, y: f(y,x), x0, lst[::-1])"
   ]
  },
  {
   "cell_type": "code",
   "execution_count": 46,
   "metadata": {
    "pycharm": {}
   },
   "outputs": [
    {
     "data": {
      "text/plain": [
       "(0.16666666666666666, 1.5)"
      ]
     },
     "execution_count": 46,
     "metadata": {},
     "output_type": "execute_result"
    }
   ],
   "source": [
    "f = lambda x, y: x / y\n",
    "foldl2(f, 1, [1, 2, 3]), foldr2(f, 1, [1, 2, 3])"
   ]
  },
  {
   "cell_type": "markdown",
   "metadata": {
    "pycharm": {}
   },
   "source": [
    "# Задание 2\n",
    "\n",
    "нужно написать функцию, которая принимает две строки и проверяет, входит ли хотя бы одна перестановка второй строки в первую. Например:\n",
    "\n",
    "> a = 'abcrotm'\n",
    "> \n",
    "> b = 'tro'\n",
    "\n",
    "функция def check_inv(a, b) вернет True, так как 'rot' содержится в 'abcrotm'. Нужно придумать как можно более оптимальный алгоритм и оценить его сложность. "
   ]
  },
  {
   "cell_type": "code",
   "execution_count": 6,
   "metadata": {
    "pycharm": {}
   },
   "outputs": [],
   "source": [
    "def check_inv(a, b):\n",
    "    if len(a) < len(b):\n",
    "        print(\"Неподходящие аргументы, первая строка должна быть не короче второй.\")\n",
    "        return \n",
    "    difference = 0\n",
    "    count_dict = dict.fromkeys([letter for letter in b], 0)\n",
    "    for letter in b:\n",
    "        count_dict[letter] -= 1\n",
    "        if count_dict[letter] == -1:\n",
    "            difference += 1\n",
    "    for _ in range(len(b)):\n",
    "        if a[_] in count_dict.keys():\n",
    "            count_dict[a[_]] += 1\n",
    "            if count_dict[a[_]] == 1:\n",
    "                difference += 1\n",
    "            elif count_dict[a[_]] == 0:\n",
    "                difference -= 1\n",
    "    if difference == 0:\n",
    "        print(f\"Успешно! Индексы вхождения: ({0}, {len(b)})\")\n",
    "        return 0, len(b)\n",
    "    for index, letter in enumerate(a[len(b):]):\n",
    "        if letter in count_dict.keys():\n",
    "            count_dict[letter] += 1\n",
    "            if count_dict[letter] == 1:\n",
    "                difference += 1\n",
    "            elif count_dict[letter] == 0:\n",
    "                difference -= 1\n",
    "        if a[index] in count_dict.keys():\n",
    "            count_dict[a[index]] -= 1\n",
    "            if count_dict[a[index]] == -1:\n",
    "                difference += 1\n",
    "            elif count_dict[a[index]] == 0:\n",
    "                difference -= 1\n",
    "        if difference == 0:\n",
    "            print(f\"Успешно! Индексы вхождения: ({index + 1}, {index + len(b)})\")\n",
    "            return index+1, index + len(b)\n",
    "    print(\"В первой строке нет перестановок второй.\")\n",
    "        "
   ]
  },
  {
   "cell_type": "code",
   "execution_count": 8,
   "metadata": {
    "pycharm": {}
   },
   "outputs": [
    {
     "name": "stdout",
     "output_type": "stream",
     "text": [
      "Успешно! Индексы вхождения: (2, 4)\n"
     ]
    },
    {
     "data": {
      "text/plain": [
       "(2, 4)"
      ]
     },
     "execution_count": 8,
     "metadata": {},
     "output_type": "execute_result"
    }
   ],
   "source": [
    "check_inv(\"trbaabc\", \"aab\")"
   ]
  },
  {
   "cell_type": "code",
   "execution_count": null,
   "metadata": {
    "pycharm": {}
   },
   "outputs": [],
   "source": [
    "# Сложность: O(len(a) + len(b))"
   ]
  },
  {
   "cell_type": "markdown",
   "metadata": {
    "pycharm": {}
   },
   "source": [
    "# Задание 3\n",
    "\n",
    "Реализовать бинарное дерево (класс Tree), в нём методы __repr__, __str__, __iter__ (итерация только по листьям)."
   ]
  },
  {
   "cell_type": "code",
   "execution_count": 135,
   "metadata": {
    "pycharm": {}
   },
   "outputs": [
    {
     "data": {
      "text/plain": [
       "True"
      ]
     },
     "execution_count": 135,
     "metadata": {},
     "output_type": "execute_result"
    }
   ],
   "source": [
    "class Tree:\n",
    "    def __init__(self, value=None, left=None, right=None):\n",
    "        self.left = left\n",
    "        self.right = right\n",
    "        self.value = value\n",
    "        \n",
    "    def __iter__(self):\n",
    "        if self.left is not None:\n",
    "            yield from self.left\n",
    "        if self.right is not None:\n",
    "            yield from self.right\n",
    "        if self.left is None and self.right is None:\n",
    "            yield self.value\n",
    "    \n",
    "    def __str__(self):\n",
    "        return str(self.value)\n",
    "    \n",
    "    def __repr__(self):\n",
    "        return f\"Leaf's value: {self.value}, left leaf's value: {self.left}, right leaf's value: {self.right}\"\n",
    "    \n",
    "tree = Tree(0, Tree(1, Tree(3), Tree(4)),                             \n",
    "               Tree(2))\n",
    "\n",
    "list(tree) == [3, 4, 2]"
   ]
  },
  {
   "cell_type": "markdown",
   "metadata": {
    "pycharm": {}
   },
   "source": [
    "# Задание 4\n",
    "\n",
    "Реализовать простейший калькулятор математических выражений:\n",
    "- только целые числа\n",
    "- **+**, **\\-**, **\\***, **\\**\n",
    "- скобки\n",
    "\n",
    "**Можно использовать регулярные выражения**"
   ]
  },
  {
   "cell_type": "code",
   "execution_count": 8,
   "metadata": {
    "pycharm": {
     "is_executing": false
    }
   },
   "outputs": [
    {
     "data": {
      "text/plain": [
       "True"
      ]
     },
     "execution_count": 8,
     "metadata": {},
     "output_type": "execute_result"
    }
   ],
   "source": [
    "import re\n",
    "\n",
    "def do_math(expr):\n",
    "    if expr[2] == \"*\":\n",
    "        return str(int(expr[1]) * int(expr[3]))\n",
    "    elif expr[2] == \"/\":\n",
    "        return str(int(expr[1]) // int(expr[3]))\n",
    "    elif expr[2] == \"+\":\n",
    "        return str(int(expr[1]) + int(expr[3]))\n",
    "    elif expr[2] == \"-\":\n",
    "        return str(int(expr[1]) - int(expr[3]))\n",
    "\n",
    "\n",
    "def calc(expr):\n",
    "    expr = expr.replace(\" \", \"\")\n",
    "    parentheses = True\n",
    "    while parentheses:\n",
    "        try:\n",
    "            start_index = expr.index(\"(\")\n",
    "            end_index = expr.index(\")\")\n",
    "            expr = expr[:start_index] + str(calc(expr[start_index+1:end_index])) + expr[end_index+1:]\n",
    "        except ValueError:\n",
    "            parentheses = False\n",
    "    match = re.search(r\"\\d+[*/]\\d+\", expr)\n",
    "    while match is not None:\n",
    "        expr = re.sub(r\"(\\d+)([*/])(\\d+)\", do_math, expr)\n",
    "        match = re.search(r\"\\d+[*/]\\d+\", expr)\n",
    "    match = re.search(r\"\\d+[+\\-]\\d+\", expr)\n",
    "    while match is not None:\n",
    "        expr = re.sub(r\"(\\d+)([+\\-])(\\d+)\", do_math, expr)\n",
    "        match = re.search(r\"\\d+[+\\-]\\d+\", expr)\n",
    "    return int(expr)\n",
    "            \n",
    "calc('2 * (15 - 3 * 4) - 2') == 4"
   ]
  },
  {
   "cell_type": "code",
   "execution_count": null,
   "metadata": {
    "collapsed": true,
    "pycharm": {}
   },
   "outputs": [],
   "source": []
  }
 ],
 "metadata": {
  "kernelspec": {
   "display_name": "Python 3",
   "language": "python",
   "name": "python3"
  },
  "language_info": {
   "codemirror_mode": {
    "name": "ipython",
    "version": 3
   },
   "file_extension": ".py",
   "mimetype": "text/x-python",
   "name": "python",
   "nbconvert_exporter": "python",
   "pygments_lexer": "ipython3",
   "version": "3.6.6"
  }
 },
 "nbformat": 4,
 "nbformat_minor": 2
}
