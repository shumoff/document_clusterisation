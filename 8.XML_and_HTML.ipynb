{
 "cells": [
  {
   "cell_type": "markdown",
   "metadata": {},
   "source": [
    "# Работа с xml и html\n",
    "\n",
    "Будем использовать пакет lxml (http://lxml.de/)"
   ]
  },
  {
   "cell_type": "code",
   "execution_count": 1,
   "metadata": {
    "collapsed": true
   },
   "outputs": [],
   "source": [
    "import lxml.html\n",
    "import lxml.etree\n",
    "import requests"
   ]
  },
  {
   "cell_type": "markdown",
   "metadata": {},
   "source": [
    "Пусть есть некоторый xml."
   ]
  },
  {
   "cell_type": "code",
   "execution_count": 2,
   "metadata": {
    "collapsed": true
   },
   "outputs": [],
   "source": [
    "our_xml = \"\"\"\n",
    "                <root>\n",
    "                    <a>\n",
    "                        text1\n",
    "                        <d q='d1'>\n",
    "                          text d1\n",
    "                        </d>\n",
    "                        <d q='d2'>\n",
    "                          text d2\n",
    "                        </d>\n",
    "                    </a>\n",
    "                    \n",
    "                    <b q='7'>                    \n",
    "                        text b\n",
    "                    </b>\n",
    "                    \n",
    "                    <b q='5'>\n",
    "                        text 3\n",
    "                        <d q='d3'>\n",
    "                           text d3\n",
    "                        </d>\n",
    "                    </b>\n",
    "                    \n",
    "                </root>\n",
    "            \"\"\""
   ]
  },
  {
   "cell_type": "code",
   "execution_count": 3,
   "metadata": {},
   "outputs": [],
   "source": [
    "tree = lxml.etree.fromstring(our_xml)"
   ]
  },
  {
   "cell_type": "markdown",
   "metadata": {},
   "source": [
    "Получаем дерево"
   ]
  },
  {
   "cell_type": "code",
   "execution_count": 4,
   "metadata": {},
   "outputs": [
    {
     "name": "stdout",
     "output_type": "stream",
     "text": [
      "a {}\n",
      "b {'q': '7'}\n",
      "b {'q': '5'}\n"
     ]
    }
   ],
   "source": [
    "for child in tree.getchildren():\n",
    "    print(child.tag, child.attrib)"
   ]
  },
  {
   "cell_type": "markdown",
   "metadata": {},
   "source": [
    "Удобные методы для XPath запросов:"
   ]
  },
  {
   "cell_type": "markdown",
   "metadata": {},
   "source": [
    "Все узлы с именем `<d>`"
   ]
  },
  {
   "cell_type": "code",
   "execution_count": 5,
   "metadata": {},
   "outputs": [
    {
     "data": {
      "text/plain": [
       "[<Element d at 0x7f69506383c8>,\n",
       " <Element d at 0x7f6940a7da48>,\n",
       " <Element d at 0x7f6940a7d308>]"
      ]
     },
     "execution_count": 5,
     "metadata": {},
     "output_type": "execute_result"
    }
   ],
   "source": [
    "tree.xpath('//d')"
   ]
  },
  {
   "cell_type": "markdown",
   "metadata": {},
   "source": [
    "Узел `<b>`, который является потомком узкла `<root>` и имеет аттрибут `q` равный 7"
   ]
  },
  {
   "cell_type": "code",
   "execution_count": 6,
   "metadata": {},
   "outputs": [
    {
     "data": {
      "text/plain": [
       "[<Element b at 0x7f6950638708>]"
      ]
     },
     "execution_count": 6,
     "metadata": {},
     "output_type": "execute_result"
    }
   ],
   "source": [
    "tree.xpath('/root/b[@q=\"7\"]')"
   ]
  },
  {
   "cell_type": "markdown",
   "metadata": {},
   "source": [
    "Значения атрибута `q` у всех узлов `<d>` которые являются потомками всех узлов `<a>`"
   ]
  },
  {
   "cell_type": "code",
   "execution_count": 7,
   "metadata": {},
   "outputs": [
    {
     "data": {
      "text/plain": [
       "['d1', 'd2']"
      ]
     },
     "execution_count": 7,
     "metadata": {},
     "output_type": "execute_result"
    }
   ],
   "source": [
    "tree.xpath('//a//d/@q')"
   ]
  },
  {
   "cell_type": "markdown",
   "metadata": {},
   "source": [
    "Взять текстовый контент узла `<d>` с атрибутом `q` равным `d1`, который является прямым потомком узла `<a>`, который является прямым потомком корневого элемента. "
   ]
  },
  {
   "cell_type": "code",
   "execution_count": 8,
   "metadata": {},
   "outputs": [
    {
     "data": {
      "text/plain": [
       "['\\n                          text d1\\n                        ']"
      ]
     },
     "execution_count": 8,
     "metadata": {},
     "output_type": "execute_result"
    }
   ],
   "source": [
    "tree.xpath('/root/a/d[@q=\"d1\"]/text()')"
   ]
  },
  {
   "cell_type": "markdown",
   "metadata": {},
   "source": [
    "Когда xml большой (дамп Википедии), на помощь приходит SAX-like парсеры"
   ]
  },
  {
   "cell_type": "code",
   "execution_count": 9,
   "metadata": {},
   "outputs": [
    {
     "name": "stdout",
     "output_type": "stream",
     "text": [
      "   Start <root> attr: []\n",
      "     Start <a> attr: []\n",
      "      Text: text1\n",
      "       Start <d> attr: [('q', 'd1')]\n",
      "        Text: text d1\n",
      "       End </d>\n",
      "       Start <d> attr: [('q', 'd2')]\n",
      "        Text: text d2\n",
      "       End </d>\n",
      "     End </a>\n",
      "     Start <b> attr: [('q', '7')]\n",
      "      Text: text b\n",
      "     End </b>\n",
      "     Start <b> attr: [('q', '5')]\n",
      "      Text: text 3\n",
      "       Start <d> attr: [('q', 'd3')]\n",
      "        Text: text d3\n",
      "       End </d>\n",
      "     End </b>\n",
      "   End </root>\n"
     ]
    }
   ],
   "source": [
    "import xml.sax\n",
    "import io\n",
    "\n",
    "class MyContentHandler(xml.sax.ContentHandler):\n",
    "    def __init__(self):\n",
    "        self.level = 0\n",
    "    \n",
    "    def startElement(self, name, attributes):\n",
    "        self.level += 1\n",
    "        print('  ' * self.level, 'Start <%s>' % name, 'attr:', attributes.items())        \n",
    "        \n",
    "    def endElement(self, name):\n",
    "        print('  ' * self.level, 'End </%s>' % name)\n",
    "        self.level -= 1\n",
    "\n",
    "    def characters(self, data):\n",
    "        text = data.strip()\n",
    "        if len(text) > 0:\n",
    "            print('  ' * self.level, ' Text:', text)\n",
    "        \n",
    "handler = MyContentHandler()\n",
    "parser = xml.sax.make_parser()\n",
    "parser.setContentHandler(handler)\n",
    "parser.parse(io.StringIO(our_xml))\n",
    "#parser.parse(open('data/wiki.xml'))"
   ]
  },
  {
   "cell_type": "markdown",
   "metadata": {},
   "source": [
    "C HTML можно работать аналогичным образом, lxml пытается привести его к нормальному виду (добавить необходимые по спецификации теги, исправить ошибки и пр.)"
   ]
  },
  {
   "cell_type": "code",
   "execution_count": 10,
   "metadata": {},
   "outputs": [
    {
     "data": {
      "text/plain": [
       "200"
      ]
     },
     "execution_count": 10,
     "metadata": {},
     "output_type": "execute_result"
    }
   ],
   "source": [
    "response = requests.get('http://fontanka.ru')\n",
    "response.status_code"
   ]
  },
  {
   "cell_type": "code",
   "execution_count": 11,
   "metadata": {},
   "outputs": [
    {
     "name": "stdout",
     "output_type": "stream",
     "text": [
      "<!DOCTYPE html>\n",
      "<html>\n",
      "<head>\n",
      "\t<meta charset=\"windows-1251\"/>\n",
      "\n",
      "\t<meta name=\"Keywords\" content=\"Санкт-Петербург, Петербур\n"
     ]
    }
   ],
   "source": [
    "print(response.text.strip()[:120])"
   ]
  },
  {
   "cell_type": "code",
   "execution_count": 12,
   "metadata": {
    "collapsed": true
   },
   "outputs": [],
   "source": [
    "tree = lxml.html.fromstring(response.text)"
   ]
  },
  {
   "cell_type": "code",
   "execution_count": 13,
   "metadata": {},
   "outputs": [
    {
     "data": {
      "text/plain": [
       "['Новости Санкт-Петербурга, последние новости дня, новости бизнеса - Фонтанка.ру']"
      ]
     },
     "execution_count": 13,
     "metadata": {},
     "output_type": "execute_result"
    }
   ],
   "source": [
    "tree.xpath('//title/text()')"
   ]
  },
  {
   "cell_type": "code",
   "execution_count": 14,
   "metadata": {},
   "outputs": [
    {
     "data": {
      "text/plain": [
       "['Фонтан на Шлиссельбургском ликвидировали, но его будут поминать 22 дома',\n",
       " 'Буксиры станцевали у Английской набережной',\n",
       " 'Ладожский мост вернули водителям',\n",
       " 'Ефремов и Орлуша матом объяснили, зачем материть зрителей',\n",
       " 'Поджог «Мерседеса» в Приморском районе зафиксировали камеры наблюдения',\n",
       " 'В Петербурге будильник перепутали с бомбой',\n",
       " 'Дети погибли при квартирном пожаре в Подмосковье',\n",
       " 'В Петербурге за дачу взятки полицейским арестована подруга Анны Семенович',\n",
       " 'The Sunday Times сообщила о попытках РФ повлиять на выборы в Британии',\n",
       " '«Фонтанка» ищет корреспондента в рубрику «Бизнес»',\n",
       " 'В Вашингтоне пропал дуб, который Трампу привез друг из Франции',\n",
       " 'Ядовитые гусеницы готовятся к атаке на Лондон',\n",
       " 'Ничья с ЦСКА уменьшила шансы «Зенита» на выход в Лигу чемпионов',\n",
       " 'Албин отфутболил «Зениту» вопросы про сломанное табло',\n",
       " '«Удельную» проверили за час',\n",
       " 'Петербуржцы выстроились в очередь за арктической мощью',\n",
       " 'Павел Дуров позвал москвичей на митинг за свободу Интернета',\n",
       " 'Перед встречей «Зенит» - ЦСКА вышло из строя видеотабло',\n",
       " 'В Ираке 19 россиянок приговорили к пожизненному заключению за связи с ИГ',\n",
       " '«Удельную» проверяют на взрывоопасность',\n",
       " 'Самолет S7 с группой Serebro не долетел до Тивата из-за проблем с закрылками',\n",
       " 'Евросоюз ответит на ультиматум Трампа пошлинами на джинсы и виски',\n",
       " '«Зенит» назвал состав на матч с ЦСКА',\n",
       " 'Россия обыграла Чехию в заключительном хоккейном матче этапа Евротура',\n",
       " 'Неисправные светофоры сбили движение поездов на первой линии',\n",
       " 'Глава Южной Кореи позвонил Путину — рассказать, как прошла встреча с Ким Чен Ыном',\n",
       " 'ЗСД затянуло черным дымом',\n",
       " 'Шлиссельбургский проспект топит 25-метровый фонтан',\n",
       " 'Променад школьника из Невского района закончился вызовом полиции на пустырь',\n",
       " 'Из-за неисправности Ладожского моста на трассе «Кола» гигантские пробки',\n",
       " 'Два «Сапсана» опаздывают в Петербург из-за поломки электровоза в Подмосковье',\n",
       " '«Боевая сталь» не поддалась петербуржцу - танк победил',\n",
       " 'Пассажирам аэропортов Шереметьево и Домодедово разрешили сидеть на полу и запускать воздушные шары',\n",
       " 'В Ереване сегодня опять - акции протеста',\n",
       " 'Россияне поехали на майские в Финляндию - на границе пробки',\n",
       " 'Вечеринку в клубе на Просвещения в 4 утра прервал доброхот',\n",
       " 'Американцы рассказали о зловещей российской подлодке',\n",
       " 'Умер основатель фестиваля Burning Man',\n",
       " 'Бывший Королевский национальный театр Великобритании ставит спектакль об отравлении Литвиненко',\n",
       " 'Работа Telegram восстановлена',\n",
       " 'У третьего по величине аэропорта Европы - проблемы с расписанием. Или почему не летит Схипхол',\n",
       " 'Соперник Емельяненко не встал на 49-й секунде',\n",
       " 'В Приморском районе подожгли \"Мерседес\". Сгорели три машины',\n",
       " 'Сенатор США: В киберпространстве Россия - первая',\n",
       " 'Telegram не работает в России, Европе и США',\n",
       " 'Как «Великий немой» впервые заговорил в Ленинграде',\n",
       " '«Фестиваль ледоколов-2018»: вальс буксиров, охота на оленей, уроки ненецкого',\n",
       " 'Женщина-Мефистофель появится в Театре Ленсовета',\n",
       " 'По злачным местам, крышам и стадиону «Санкт-Петербург» проведет «Открытая карта»',\n",
       " 'Великобритания во второй раз за 56 лет сыграет в чемпионате мира по хоккею',\n",
       " 'США поддержали Саркисяна',\n",
       " 'Аэропорт Жуковский восстановил работу после инцидента с Ил-38',\n",
       " 'Башню Трампа в Баку потушили второй раз за день',\n",
       " 'В Киеве в результате взрыва гранаты погиб военный журналист',\n",
       " 'Власти Венеции решили ограничить поток туристов',\n",
       " 'РФ запретила въезд ряду политиков Литвы в ответ на аналог \"закона Магнитского\"',\n",
       " 'Лавров проинформировал главу МИД Франции о переговорах с главами дипведомств Ирана и Турции',\n",
       " 'Российские дзюдоисты выиграли чемпионат Европы',\n",
       " 'The Telegraph сообщило о допросе Федора Емельяненко сотрудниками ФБР',\n",
       " 'Финал волейбольной Суперлиги в Петербурге установил рекорд посещаемости',\n",
       " 'В Жуковском совершил аварийную посадку самолёт ВМС Индии',\n",
       " 'Жена Макрона рассказала о сложностях в жизни Меланьи Трамп',\n",
       " 'Жилком подготовил законопроект о домах, не отремонтированных до приватизации',\n",
       " 'В Финляндии водитель открыл огонь по полицейским и был убит',\n",
       " 'Волейбольный «Зенит» СПб проиграл золото «Зениту» из Казани',\n",
       " 'Бакинский «небоскреб Трампа» снова загорелся',\n",
       " 'Продюсер Серебренникова: «Будем отвечать в Каннах на вопросы про кровавый режим»',\n",
       " '«О`Кей» на Заневском освободили от подозрительного рюкзака']"
      ]
     },
     "execution_count": 14,
     "metadata": {},
     "output_type": "execute_result"
    }
   ],
   "source": [
    "tree.xpath('//div[contains(@class, \"common_news\")]//div[@class=\"entry_title\"]/a/text()')"
   ]
  },
  {
   "cell_type": "code",
   "execution_count": null,
   "metadata": {
    "collapsed": true
   },
   "outputs": [],
   "source": []
  }
 ],
 "metadata": {
  "kernelspec": {
   "display_name": "Python 3",
   "language": "python",
   "name": "python3"
  },
  "language_info": {
   "codemirror_mode": {
    "name": "ipython",
    "version": 3
   },
   "file_extension": ".py",
   "mimetype": "text/x-python",
   "name": "python",
   "nbconvert_exporter": "python",
   "pygments_lexer": "ipython3",
   "version": "3.6.3"
  }
 },
 "nbformat": 4,
 "nbformat_minor": 2
}
