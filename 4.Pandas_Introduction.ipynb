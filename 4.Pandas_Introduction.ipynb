{
 "cells": [
  {
   "cell_type": "markdown",
   "metadata": {},
   "source": [
    "# Pandas"
   ]
  },
  {
   "cell_type": "markdown",
   "metadata": {},
   "source": [
    "**Pandas** - мощная библиотека для анализа данных на `Python`. Позволяет работать с табличными данными, временными рядами и другими структурами данных, анализировать и визуализировать их. \n",
    "\n",
    "Основные преимущества:\n",
    "- богатый инструментарий для анализа данных - аггрегация, трансформация и т.п.\n",
    "- возможность чтения и записи данных из\\в разные форматы - `CSV`, `Excel`, СУБД\n",
    "- совместимость со многими библиотеками из экосистемы `Python` для научных вычислений\n",
    "- возможность работать и иерархическими данными\n"
   ]
  },
  {
   "cell_type": "markdown",
   "metadata": {},
   "source": [
    "### Series"
   ]
  },
  {
   "cell_type": "code",
   "execution_count": 1,
   "metadata": {
    "collapsed": true
   },
   "outputs": [],
   "source": [
    "import pandas as pd"
   ]
  },
  {
   "cell_type": "markdown",
   "metadata": {},
   "source": [
    "Базовая структура данных - это `Series`. Интуитивно это типизированный вектор, каждый элемент которого имеет ассоциированную с ним некоторую уникальную метку. Набор меток, который привязан к `Series` называется индексом. `Series` можно создать из списка `Python` или из массива `NumPy`"
   ]
  },
  {
   "cell_type": "code",
   "execution_count": 2,
   "metadata": {},
   "outputs": [
    {
     "data": {
      "text/plain": [
       "0    1\n",
       "1    2\n",
       "2    3\n",
       "3    4\n",
       "dtype: int64"
      ]
     },
     "execution_count": 2,
     "metadata": {},
     "output_type": "execute_result"
    }
   ],
   "source": [
    "pd.Series([1, 2, 3, 4])"
   ]
  },
  {
   "cell_type": "markdown",
   "metadata": {},
   "source": [
    "по умолчанию в качестве индекса выступают упорядоченные целые числа, но можно использовать строки, даты, и многие другие объекты. "
   ]
  },
  {
   "cell_type": "code",
   "execution_count": 3,
   "metadata": {},
   "outputs": [
    {
     "data": {
      "text/plain": [
       "a    1\n",
       "b    2\n",
       "c    3\n",
       "d    4\n",
       "dtype: int64"
      ]
     },
     "execution_count": 3,
     "metadata": {},
     "output_type": "execute_result"
    }
   ],
   "source": [
    "s = pd.Series([1, 2, 3, 4], index=['a', 'b', 'c', 'd'])\n",
    "s"
   ]
  },
  {
   "cell_type": "markdown",
   "metadata": {},
   "source": [
    "Можно и прямо использовать словарь с аналогичным результатом"
   ]
  },
  {
   "cell_type": "code",
   "execution_count": 4,
   "metadata": {},
   "outputs": [
    {
     "data": {
      "text/plain": [
       "a    1\n",
       "b    2\n",
       "c    3\n",
       "d    4\n",
       "dtype: int64"
      ]
     },
     "execution_count": 4,
     "metadata": {},
     "output_type": "execute_result"
    }
   ],
   "source": [
    "pd.Series({'a': 1, 'b': 2, 'c': 3, 'd': 4})"
   ]
  },
  {
   "cell_type": "markdown",
   "metadata": {},
   "source": [
    "К элементам `Series` можно обращаться  по индексу"
   ]
  },
  {
   "cell_type": "code",
   "execution_count": 5,
   "metadata": {},
   "outputs": [
    {
     "data": {
      "text/plain": [
       "3"
      ]
     },
     "execution_count": 5,
     "metadata": {},
     "output_type": "execute_result"
    }
   ],
   "source": [
    "s['c']"
   ]
  },
  {
   "cell_type": "markdown",
   "metadata": {},
   "source": [
    "Так как индекс упорядоченный, мы можем обращаться к элементам в `Series` с помошью чисел, точно так же как мы это делали  в списках `Python` или массивав `NumPy`"
   ]
  },
  {
   "cell_type": "code",
   "execution_count": 6,
   "metadata": {},
   "outputs": [
    {
     "data": {
      "text/plain": [
       "3"
      ]
     },
     "execution_count": 6,
     "metadata": {},
     "output_type": "execute_result"
    }
   ],
   "source": [
    "s[2]"
   ]
  },
  {
   "cell_type": "markdown",
   "metadata": {},
   "source": [
    "Можем даже использовать срезы, получаяновый объект `Series`"
   ]
  },
  {
   "cell_type": "code",
   "execution_count": 7,
   "metadata": {},
   "outputs": [
    {
     "data": {
      "text/plain": [
       "c    3\n",
       "d    4\n",
       "dtype: int64"
      ]
     },
     "execution_count": 7,
     "metadata": {},
     "output_type": "execute_result"
    }
   ],
   "source": [
    "s[2:4]"
   ]
  },
  {
   "cell_type": "code",
   "execution_count": 8,
   "metadata": {},
   "outputs": [
    {
     "data": {
      "text/plain": [
       "c    3\n",
       "d    4\n",
       "dtype: int64"
      ]
     },
     "execution_count": 8,
     "metadata": {},
     "output_type": "execute_result"
    }
   ],
   "source": [
    "s['c':'d']"
   ]
  },
  {
   "cell_type": "markdown",
   "metadata": {},
   "source": [
    "Из объекта `Series` можно получить `NumPy`-массив значений"
   ]
  },
  {
   "cell_type": "code",
   "execution_count": 9,
   "metadata": {},
   "outputs": [
    {
     "data": {
      "text/plain": [
       "array([1, 2, 3, 4])"
      ]
     },
     "execution_count": 9,
     "metadata": {},
     "output_type": "execute_result"
    }
   ],
   "source": [
    "s.values"
   ]
  },
  {
   "cell_type": "markdown",
   "metadata": {},
   "source": [
    "и значения индекса"
   ]
  },
  {
   "cell_type": "code",
   "execution_count": 10,
   "metadata": {},
   "outputs": [
    {
     "data": {
      "text/plain": [
       "Index(['a', 'b', 'c', 'd'], dtype='object')"
      ]
     },
     "execution_count": 10,
     "metadata": {},
     "output_type": "execute_result"
    }
   ],
   "source": [
    "s.index"
   ]
  },
  {
   "cell_type": "markdown",
   "metadata": {},
   "source": [
    "Рассмотрим более интересный пример - загрузим CSV-файл с информацией о курсе Евро с 01.04.2017 ао 15.04.2017"
   ]
  },
  {
   "cell_type": "code",
   "execution_count": 11,
   "metadata": {},
   "outputs": [
    {
     "name": "stdout",
     "output_type": "stream",
     "text": [
      "2017-04-01,59.8107\n",
      "2017-04-04,59.8953\n",
      "2017-04-05,60.2427\n",
      "2017-04-06,59.6948\n",
      "2017-04-07,60.0827\n"
     ]
    }
   ],
   "source": [
    "# первые 5 строчек нашего файла\n",
    "!head -n 5 data/eur.csv"
   ]
  },
  {
   "cell_type": "markdown",
   "metadata": {},
   "source": [
    "Загружаем файл в `Series`"
   ]
  },
  {
   "cell_type": "code",
   "execution_count": 12,
   "metadata": {},
   "outputs": [
    {
     "data": {
      "text/plain": [
       "0\n",
       "2017-04-01    59.8107\n",
       "2017-04-04    59.8953\n",
       "2017-04-05    60.2427\n",
       "2017-04-06    59.6948\n",
       "2017-04-07    60.0827\n",
       "2017-04-08    60.5687\n",
       "2017-04-11    60.7469\n",
       "2017-04-12    60.3042\n",
       "2017-04-13    60.2631\n",
       "2017-04-14    60.2867\n",
       "2017-04-15    59.7791\n",
       "Name: 1, dtype: float64"
      ]
     },
     "execution_count": 12,
     "metadata": {},
     "output_type": "execute_result"
    }
   ],
   "source": [
    "s = pd.read_csv('data/eur.csv', index_col=0, header=None).loc[:, 1]\n",
    "s"
   ]
  },
  {
   "cell_type": "code",
   "execution_count": 13,
   "metadata": {},
   "outputs": [
    {
     "data": {
      "text/plain": [
       "Index(['2017-04-01', '2017-04-04', '2017-04-05', '2017-04-06', '2017-04-07',\n",
       "       '2017-04-08', '2017-04-11', '2017-04-12', '2017-04-13', '2017-04-14',\n",
       "       '2017-04-15'],\n",
       "      dtype='object', name=0)"
      ]
     },
     "execution_count": 13,
     "metadata": {},
     "output_type": "execute_result"
    }
   ],
   "source": [
    "s.index"
   ]
  },
  {
   "cell_type": "markdown",
   "metadata": {},
   "source": [
    "Как мы видим, `Pandas` сама определила типы данных  (в том числе даты)"
   ]
  },
  {
   "cell_type": "markdown",
   "metadata": {},
   "source": [
    "Мы можем получить даты, для которых курс Евро меньше 60"
   ]
  },
  {
   "cell_type": "code",
   "execution_count": 14,
   "metadata": {},
   "outputs": [
    {
     "data": {
      "text/plain": [
       "0\n",
       "2017-04-01     True\n",
       "2017-04-04     True\n",
       "2017-04-05    False\n",
       "2017-04-06     True\n",
       "2017-04-07    False\n",
       "2017-04-08    False\n",
       "2017-04-11    False\n",
       "2017-04-12    False\n",
       "2017-04-13    False\n",
       "2017-04-14    False\n",
       "2017-04-15     True\n",
       "Name: 1, dtype: bool"
      ]
     },
     "execution_count": 14,
     "metadata": {},
     "output_type": "execute_result"
    }
   ],
   "source": [
    "s < 60"
   ]
  },
  {
   "cell_type": "markdown",
   "metadata": {},
   "source": [
    "Обратите внимание, что результат этой операции - новый `Series`, где индекс остается неизменным, а вместо курса евро - булевское значение. Наличие индекса - это основное отличие `Series` от обычных одномерных массивов `NumPy`"
   ]
  },
  {
   "cell_type": "markdown",
   "metadata": {},
   "source": [
    "Следующая стандартная операция заключается в получии подмножество `Series` на основе некоторого условия. Получим подмножество, где курс меньше 60."
   ]
  },
  {
   "cell_type": "code",
   "execution_count": 15,
   "metadata": {},
   "outputs": [
    {
     "data": {
      "text/plain": [
       "0\n",
       "2017-04-01    59.8107\n",
       "2017-04-04    59.8953\n",
       "2017-04-06    59.6948\n",
       "2017-04-15    59.7791\n",
       "Name: 1, dtype: float64"
      ]
     },
     "execution_count": 15,
     "metadata": {},
     "output_type": "execute_result"
    }
   ],
   "source": [
    "s[s < 60]"
   ]
  },
  {
   "cell_type": "markdown",
   "metadata": {},
   "source": [
    "Где курс меньше 60 после 4 апреля 2017 года"
   ]
  },
  {
   "cell_type": "code",
   "execution_count": 16,
   "metadata": {},
   "outputs": [
    {
     "data": {
      "text/plain": [
       "0\n",
       "2017-04-06    59.6948\n",
       "2017-04-15    59.7791\n",
       "Name: 1, dtype: float64"
      ]
     },
     "execution_count": 16,
     "metadata": {},
     "output_type": "execute_result"
    }
   ],
   "source": [
    "s[(s < 60) & (s.index > '2017-04-04')]"
   ]
  },
  {
   "cell_type": "markdown",
   "metadata": {},
   "source": [
    "Обратите внимание, что результат двух операций s < 60 и s.index > '2017-04-04'  -- `Series` c логическими значениями. Мы совершаем между ними логическую операци \"&\" и получаем ещё один `Series` с логическими значениями."
   ]
  },
  {
   "cell_type": "markdown",
   "metadata": {},
   "source": [
    "### DataFrame"
   ]
  },
  {
   "cell_type": "markdown",
   "metadata": {},
   "source": [
    "С помощью `Series` мы можем оперировать одномерными данными (как в примере выше: дата $\\rightarrow$ курс евро). Но если данных больше, и мы хотим производить какой-то анализ на основе курса евро и курса доллара? Мы можем создать два объекта `Series`, но одновременная работа с ними может быть не очень удобной. \n",
    "\n",
    "**DataFrame** - это именнованный набор объектов `Series` с одинаковым индексом. Если говорить более простым языком - это таблица, у каждой строки которой есть уникальное значение (индекс) и у каждого столбца - имя. Это чем-то напомнает `Excel`, только управлять таблицей мы будем из `Python`. Стоит отметить, что появление `DataFrame` инспирировано одноименной структурой данных из языка `R`."
   ]
  },
  {
   "cell_type": "markdown",
   "metadata": {},
   "source": [
    "`DataFrame` можно просто создать, передав в конструктор табличные данные и имена колонок"
   ]
  },
  {
   "cell_type": "code",
   "execution_count": 17,
   "metadata": {},
   "outputs": [
    {
     "data": {
      "text/html": [
       "<div>\n",
       "<style scoped>\n",
       "    .dataframe tbody tr th:only-of-type {\n",
       "        vertical-align: middle;\n",
       "    }\n",
       "\n",
       "    .dataframe tbody tr th {\n",
       "        vertical-align: top;\n",
       "    }\n",
       "\n",
       "    .dataframe thead th {\n",
       "        text-align: right;\n",
       "    }\n",
       "</style>\n",
       "<table border=\"1\" class=\"dataframe\">\n",
       "  <thead>\n",
       "    <tr style=\"text-align: right;\">\n",
       "      <th></th>\n",
       "      <th>a</th>\n",
       "      <th>b</th>\n",
       "      <th>c</th>\n",
       "    </tr>\n",
       "  </thead>\n",
       "  <tbody>\n",
       "    <tr>\n",
       "      <th>0</th>\n",
       "      <td>1</td>\n",
       "      <td>2</td>\n",
       "      <td>3</td>\n",
       "    </tr>\n",
       "    <tr>\n",
       "      <th>1</th>\n",
       "      <td>4</td>\n",
       "      <td>5</td>\n",
       "      <td>6</td>\n",
       "    </tr>\n",
       "  </tbody>\n",
       "</table>\n",
       "</div>"
      ],
      "text/plain": [
       "   a  b  c\n",
       "0  1  2  3\n",
       "1  4  5  6"
      ]
     },
     "execution_count": 17,
     "metadata": {},
     "output_type": "execute_result"
    }
   ],
   "source": [
    "pd.DataFrame(data=[[1, 2, 3], [4, 5, 6]], columns=['a', 'b', 'c'])"
   ]
  },
  {
   "cell_type": "markdown",
   "metadata": {},
   "source": [
    "Или аналогично по столбцам"
   ]
  },
  {
   "cell_type": "code",
   "execution_count": 18,
   "metadata": {},
   "outputs": [
    {
     "data": {
      "text/html": [
       "<div>\n",
       "<style scoped>\n",
       "    .dataframe tbody tr th:only-of-type {\n",
       "        vertical-align: middle;\n",
       "    }\n",
       "\n",
       "    .dataframe tbody tr th {\n",
       "        vertical-align: top;\n",
       "    }\n",
       "\n",
       "    .dataframe thead th {\n",
       "        text-align: right;\n",
       "    }\n",
       "</style>\n",
       "<table border=\"1\" class=\"dataframe\">\n",
       "  <thead>\n",
       "    <tr style=\"text-align: right;\">\n",
       "      <th></th>\n",
       "      <th>a</th>\n",
       "      <th>b</th>\n",
       "      <th>c</th>\n",
       "    </tr>\n",
       "  </thead>\n",
       "  <tbody>\n",
       "    <tr>\n",
       "      <th>0</th>\n",
       "      <td>1</td>\n",
       "      <td>2</td>\n",
       "      <td>3</td>\n",
       "    </tr>\n",
       "    <tr>\n",
       "      <th>1</th>\n",
       "      <td>4</td>\n",
       "      <td>5</td>\n",
       "      <td>6</td>\n",
       "    </tr>\n",
       "  </tbody>\n",
       "</table>\n",
       "</div>"
      ],
      "text/plain": [
       "   a  b  c\n",
       "0  1  2  3\n",
       "1  4  5  6"
      ]
     },
     "execution_count": 18,
     "metadata": {},
     "output_type": "execute_result"
    }
   ],
   "source": [
    "pd.DataFrame(data={'a' : [1, 4], 'b': [2, 5], 'c': [3, 6]})"
   ]
  },
  {
   "cell_type": "markdown",
   "metadata": {},
   "source": [
    "Вместо списков, можно использовать массивы `NumPy` или `Series`"
   ]
  },
  {
   "cell_type": "markdown",
   "metadata": {},
   "source": [
    "Давайте загрузим исторические данные по евро, доллару и британскому фунту. Наш файл (в формате `CSV`) выглядит так"
   ]
  },
  {
   "cell_type": "code",
   "execution_count": 19,
   "metadata": {},
   "outputs": [
    {
     "name": "stdout",
     "output_type": "stream",
     "text": [
      "DATE,EUR,USD,GBP\n",
      "2017-04-01,59.8107,55.9606,69.7605\n",
      "2017-04-04,59.8953,56.1396,70.3429\n",
      "2017-04-05,60.2427,56.5553,70.3548\n",
      "2017-04-06,59.6948,55.894,69.4986\n"
     ]
    }
   ],
   "source": [
    "!head -n 5 data/currencies.csv"
   ]
  },
  {
   "cell_type": "markdown",
   "metadata": {},
   "source": [
    "c помощью параметров мы указываем как следует читать файл:\n",
    "- *index_col=0* - индекс расположен в первой колонке (отсчет идёт, как обычно, с нуля). \n",
    "- *header=0* - заголовки таблицы на первой строке. Если наш файл не содержит заголовка, мы можем просто указать *header=False*, в этом случае колонки будут носить численные именования.\n",
    "\n",
    "\n",
    "Чтобы не заграмождать экран, мы будем использовать метод *.head()*, который обрезает нашу таблицу до 5 строк. "
   ]
  },
  {
   "cell_type": "code",
   "execution_count": 20,
   "metadata": {},
   "outputs": [
    {
     "data": {
      "text/html": [
       "<div>\n",
       "<style scoped>\n",
       "    .dataframe tbody tr th:only-of-type {\n",
       "        vertical-align: middle;\n",
       "    }\n",
       "\n",
       "    .dataframe tbody tr th {\n",
       "        vertical-align: top;\n",
       "    }\n",
       "\n",
       "    .dataframe thead th {\n",
       "        text-align: right;\n",
       "    }\n",
       "</style>\n",
       "<table border=\"1\" class=\"dataframe\">\n",
       "  <thead>\n",
       "    <tr style=\"text-align: right;\">\n",
       "      <th></th>\n",
       "      <th>EUR</th>\n",
       "      <th>USD</th>\n",
       "      <th>GBP</th>\n",
       "    </tr>\n",
       "    <tr>\n",
       "      <th>DATE</th>\n",
       "      <th></th>\n",
       "      <th></th>\n",
       "      <th></th>\n",
       "    </tr>\n",
       "  </thead>\n",
       "  <tbody>\n",
       "    <tr>\n",
       "      <th>2017-04-01</th>\n",
       "      <td>59.8107</td>\n",
       "      <td>55.9606</td>\n",
       "      <td>69.7605</td>\n",
       "    </tr>\n",
       "    <tr>\n",
       "      <th>2017-04-04</th>\n",
       "      <td>59.8953</td>\n",
       "      <td>56.1396</td>\n",
       "      <td>70.3429</td>\n",
       "    </tr>\n",
       "    <tr>\n",
       "      <th>2017-04-05</th>\n",
       "      <td>60.2427</td>\n",
       "      <td>56.5553</td>\n",
       "      <td>70.3548</td>\n",
       "    </tr>\n",
       "    <tr>\n",
       "      <th>2017-04-06</th>\n",
       "      <td>59.6948</td>\n",
       "      <td>55.8940</td>\n",
       "      <td>69.4986</td>\n",
       "    </tr>\n",
       "    <tr>\n",
       "      <th>2017-04-07</th>\n",
       "      <td>60.0827</td>\n",
       "      <td>56.4369</td>\n",
       "      <td>70.3655</td>\n",
       "    </tr>\n",
       "  </tbody>\n",
       "</table>\n",
       "</div>"
      ],
      "text/plain": [
       "                EUR      USD      GBP\n",
       "DATE                                 \n",
       "2017-04-01  59.8107  55.9606  69.7605\n",
       "2017-04-04  59.8953  56.1396  70.3429\n",
       "2017-04-05  60.2427  56.5553  70.3548\n",
       "2017-04-06  59.6948  55.8940  69.4986\n",
       "2017-04-07  60.0827  56.4369  70.3655"
      ]
     },
     "execution_count": 20,
     "metadata": {},
     "output_type": "execute_result"
    }
   ],
   "source": [
    "df = pd.read_csv('data/currencies.csv', index_col=0, header=0)\n",
    "df.head()"
   ]
  },
  {
   "cell_type": "markdown",
   "metadata": {},
   "source": [
    "#### Основные операции"
   ]
  },
  {
   "cell_type": "markdown",
   "metadata": {},
   "source": [
    "Мы можем получить один столбец, которые будет представим в виде объекта `Series`"
   ]
  },
  {
   "cell_type": "code",
   "execution_count": 21,
   "metadata": {},
   "outputs": [
    {
     "data": {
      "text/plain": [
       "DATE\n",
       "2017-04-01    55.9606\n",
       "2017-04-04    56.1396\n",
       "2017-04-05    56.5553\n",
       "2017-04-06    55.8940\n",
       "2017-04-07    56.4369\n",
       "Name: USD, dtype: float64"
      ]
     },
     "execution_count": 21,
     "metadata": {},
     "output_type": "execute_result"
    }
   ],
   "source": [
    "df['USD'].head()"
   ]
  },
  {
   "cell_type": "markdown",
   "metadata": {},
   "source": [
    "Или срезать `DataFrame`, взяв только некоторые, интересные нам столбцы:"
   ]
  },
  {
   "cell_type": "code",
   "execution_count": 22,
   "metadata": {},
   "outputs": [
    {
     "data": {
      "text/html": [
       "<div>\n",
       "<style scoped>\n",
       "    .dataframe tbody tr th:only-of-type {\n",
       "        vertical-align: middle;\n",
       "    }\n",
       "\n",
       "    .dataframe tbody tr th {\n",
       "        vertical-align: top;\n",
       "    }\n",
       "\n",
       "    .dataframe thead th {\n",
       "        text-align: right;\n",
       "    }\n",
       "</style>\n",
       "<table border=\"1\" class=\"dataframe\">\n",
       "  <thead>\n",
       "    <tr style=\"text-align: right;\">\n",
       "      <th></th>\n",
       "      <th>USD</th>\n",
       "      <th>GBP</th>\n",
       "    </tr>\n",
       "    <tr>\n",
       "      <th>DATE</th>\n",
       "      <th></th>\n",
       "      <th></th>\n",
       "    </tr>\n",
       "  </thead>\n",
       "  <tbody>\n",
       "    <tr>\n",
       "      <th>2017-04-01</th>\n",
       "      <td>55.9606</td>\n",
       "      <td>69.7605</td>\n",
       "    </tr>\n",
       "    <tr>\n",
       "      <th>2017-04-04</th>\n",
       "      <td>56.1396</td>\n",
       "      <td>70.3429</td>\n",
       "    </tr>\n",
       "    <tr>\n",
       "      <th>2017-04-05</th>\n",
       "      <td>56.5553</td>\n",
       "      <td>70.3548</td>\n",
       "    </tr>\n",
       "    <tr>\n",
       "      <th>2017-04-06</th>\n",
       "      <td>55.8940</td>\n",
       "      <td>69.4986</td>\n",
       "    </tr>\n",
       "    <tr>\n",
       "      <th>2017-04-07</th>\n",
       "      <td>56.4369</td>\n",
       "      <td>70.3655</td>\n",
       "    </tr>\n",
       "  </tbody>\n",
       "</table>\n",
       "</div>"
      ],
      "text/plain": [
       "                USD      GBP\n",
       "DATE                        \n",
       "2017-04-01  55.9606  69.7605\n",
       "2017-04-04  56.1396  70.3429\n",
       "2017-04-05  56.5553  70.3548\n",
       "2017-04-06  55.8940  69.4986\n",
       "2017-04-07  56.4369  70.3655"
      ]
     },
     "execution_count": 22,
     "metadata": {},
     "output_type": "execute_result"
    }
   ],
   "source": [
    "df[['USD', 'GBP']].head()"
   ]
  },
  {
   "cell_type": "markdown",
   "metadata": {},
   "source": [
    "мы можем создать новый столбец из старых. В данном случае посчитаем разницу между курсом фунта и евро на каждый день"
   ]
  },
  {
   "cell_type": "code",
   "execution_count": 23,
   "metadata": {},
   "outputs": [
    {
     "data": {
      "text/html": [
       "<div>\n",
       "<style scoped>\n",
       "    .dataframe tbody tr th:only-of-type {\n",
       "        vertical-align: middle;\n",
       "    }\n",
       "\n",
       "    .dataframe tbody tr th {\n",
       "        vertical-align: top;\n",
       "    }\n",
       "\n",
       "    .dataframe thead th {\n",
       "        text-align: right;\n",
       "    }\n",
       "</style>\n",
       "<table border=\"1\" class=\"dataframe\">\n",
       "  <thead>\n",
       "    <tr style=\"text-align: right;\">\n",
       "      <th></th>\n",
       "      <th>EUR</th>\n",
       "      <th>USD</th>\n",
       "      <th>GBP</th>\n",
       "      <th>GBP-EUR</th>\n",
       "    </tr>\n",
       "    <tr>\n",
       "      <th>DATE</th>\n",
       "      <th></th>\n",
       "      <th></th>\n",
       "      <th></th>\n",
       "      <th></th>\n",
       "    </tr>\n",
       "  </thead>\n",
       "  <tbody>\n",
       "    <tr>\n",
       "      <th>2017-04-01</th>\n",
       "      <td>59.8107</td>\n",
       "      <td>55.9606</td>\n",
       "      <td>69.7605</td>\n",
       "      <td>9.9498</td>\n",
       "    </tr>\n",
       "    <tr>\n",
       "      <th>2017-04-04</th>\n",
       "      <td>59.8953</td>\n",
       "      <td>56.1396</td>\n",
       "      <td>70.3429</td>\n",
       "      <td>10.4476</td>\n",
       "    </tr>\n",
       "    <tr>\n",
       "      <th>2017-04-05</th>\n",
       "      <td>60.2427</td>\n",
       "      <td>56.5553</td>\n",
       "      <td>70.3548</td>\n",
       "      <td>10.1121</td>\n",
       "    </tr>\n",
       "    <tr>\n",
       "      <th>2017-04-06</th>\n",
       "      <td>59.6948</td>\n",
       "      <td>55.8940</td>\n",
       "      <td>69.4986</td>\n",
       "      <td>9.8038</td>\n",
       "    </tr>\n",
       "    <tr>\n",
       "      <th>2017-04-07</th>\n",
       "      <td>60.0827</td>\n",
       "      <td>56.4369</td>\n",
       "      <td>70.3655</td>\n",
       "      <td>10.2828</td>\n",
       "    </tr>\n",
       "  </tbody>\n",
       "</table>\n",
       "</div>"
      ],
      "text/plain": [
       "                EUR      USD      GBP  GBP-EUR\n",
       "DATE                                          \n",
       "2017-04-01  59.8107  55.9606  69.7605   9.9498\n",
       "2017-04-04  59.8953  56.1396  70.3429  10.4476\n",
       "2017-04-05  60.2427  56.5553  70.3548  10.1121\n",
       "2017-04-06  59.6948  55.8940  69.4986   9.8038\n",
       "2017-04-07  60.0827  56.4369  70.3655  10.2828"
      ]
     },
     "execution_count": 23,
     "metadata": {},
     "output_type": "execute_result"
    }
   ],
   "source": [
    "df['GBP-EUR'] = df['GBP'] - df['EUR']\n",
    "df.head(5)"
   ]
  },
  {
   "cell_type": "markdown",
   "metadata": {},
   "source": [
    "Или можно посмотреть на сколько изменялся курс евро и доллара с прошлого дня"
   ]
  },
  {
   "cell_type": "code",
   "execution_count": 24,
   "metadata": {},
   "outputs": [
    {
     "data": {
      "text/html": [
       "<div>\n",
       "<style scoped>\n",
       "    .dataframe tbody tr th:only-of-type {\n",
       "        vertical-align: middle;\n",
       "    }\n",
       "\n",
       "    .dataframe tbody tr th {\n",
       "        vertical-align: top;\n",
       "    }\n",
       "\n",
       "    .dataframe thead th {\n",
       "        text-align: right;\n",
       "    }\n",
       "</style>\n",
       "<table border=\"1\" class=\"dataframe\">\n",
       "  <thead>\n",
       "    <tr style=\"text-align: right;\">\n",
       "      <th></th>\n",
       "      <th>EUR</th>\n",
       "      <th>USD</th>\n",
       "      <th>GBP</th>\n",
       "      <th>GBP-EUR</th>\n",
       "      <th>$\\Delta$ EUR</th>\n",
       "      <th>$\\Delta$ USD</th>\n",
       "    </tr>\n",
       "    <tr>\n",
       "      <th>DATE</th>\n",
       "      <th></th>\n",
       "      <th></th>\n",
       "      <th></th>\n",
       "      <th></th>\n",
       "      <th></th>\n",
       "      <th></th>\n",
       "    </tr>\n",
       "  </thead>\n",
       "  <tbody>\n",
       "    <tr>\n",
       "      <th>2017-04-01</th>\n",
       "      <td>59.8107</td>\n",
       "      <td>55.9606</td>\n",
       "      <td>69.7605</td>\n",
       "      <td>9.9498</td>\n",
       "      <td>NaN</td>\n",
       "      <td>NaN</td>\n",
       "    </tr>\n",
       "    <tr>\n",
       "      <th>2017-04-04</th>\n",
       "      <td>59.8953</td>\n",
       "      <td>56.1396</td>\n",
       "      <td>70.3429</td>\n",
       "      <td>10.4476</td>\n",
       "      <td>0.0846</td>\n",
       "      <td>0.1790</td>\n",
       "    </tr>\n",
       "    <tr>\n",
       "      <th>2017-04-05</th>\n",
       "      <td>60.2427</td>\n",
       "      <td>56.5553</td>\n",
       "      <td>70.3548</td>\n",
       "      <td>10.1121</td>\n",
       "      <td>0.3474</td>\n",
       "      <td>0.4157</td>\n",
       "    </tr>\n",
       "    <tr>\n",
       "      <th>2017-04-06</th>\n",
       "      <td>59.6948</td>\n",
       "      <td>55.8940</td>\n",
       "      <td>69.4986</td>\n",
       "      <td>9.8038</td>\n",
       "      <td>-0.5479</td>\n",
       "      <td>-0.6613</td>\n",
       "    </tr>\n",
       "    <tr>\n",
       "      <th>2017-04-07</th>\n",
       "      <td>60.0827</td>\n",
       "      <td>56.4369</td>\n",
       "      <td>70.3655</td>\n",
       "      <td>10.2828</td>\n",
       "      <td>0.3879</td>\n",
       "      <td>0.5429</td>\n",
       "    </tr>\n",
       "  </tbody>\n",
       "</table>\n",
       "</div>"
      ],
      "text/plain": [
       "                EUR      USD      GBP  GBP-EUR  $\\Delta$ EUR  $\\Delta$ USD\n",
       "DATE                                                                      \n",
       "2017-04-01  59.8107  55.9606  69.7605   9.9498           NaN           NaN\n",
       "2017-04-04  59.8953  56.1396  70.3429  10.4476        0.0846        0.1790\n",
       "2017-04-05  60.2427  56.5553  70.3548  10.1121        0.3474        0.4157\n",
       "2017-04-06  59.6948  55.8940  69.4986   9.8038       -0.5479       -0.6613\n",
       "2017-04-07  60.0827  56.4369  70.3655  10.2828        0.3879        0.5429"
      ]
     },
     "execution_count": 24,
     "metadata": {},
     "output_type": "execute_result"
    }
   ],
   "source": [
    "df['$\\Delta$ EUR'] = df['EUR'] - df['EUR'].shift(1)\n",
    "df['$\\Delta$ USD'] = df['USD'] - df['USD'].shift(1)\n",
    "df.head()"
   ]
  },
  {
   "cell_type": "markdown",
   "metadata": {},
   "source": [
    "Индексация осуществляется  с помощью свойств **.loc** и **.iloc**. Допустим, мы хотим получить новый `DataFrame`, состоящий из строк, где изменение доллара и евро c прошлого дня отрицательные"
   ]
  },
  {
   "cell_type": "code",
   "execution_count": 25,
   "metadata": {},
   "outputs": [
    {
     "data": {
      "text/html": [
       "<div>\n",
       "<style scoped>\n",
       "    .dataframe tbody tr th:only-of-type {\n",
       "        vertical-align: middle;\n",
       "    }\n",
       "\n",
       "    .dataframe tbody tr th {\n",
       "        vertical-align: top;\n",
       "    }\n",
       "\n",
       "    .dataframe thead th {\n",
       "        text-align: right;\n",
       "    }\n",
       "</style>\n",
       "<table border=\"1\" class=\"dataframe\">\n",
       "  <thead>\n",
       "    <tr style=\"text-align: right;\">\n",
       "      <th></th>\n",
       "      <th>EUR</th>\n",
       "      <th>USD</th>\n",
       "      <th>GBP</th>\n",
       "      <th>GBP-EUR</th>\n",
       "      <th>$\\Delta$ EUR</th>\n",
       "      <th>$\\Delta$ USD</th>\n",
       "    </tr>\n",
       "    <tr>\n",
       "      <th>DATE</th>\n",
       "      <th></th>\n",
       "      <th></th>\n",
       "      <th></th>\n",
       "      <th></th>\n",
       "      <th></th>\n",
       "      <th></th>\n",
       "    </tr>\n",
       "  </thead>\n",
       "  <tbody>\n",
       "    <tr>\n",
       "      <th>2017-04-06</th>\n",
       "      <td>59.6948</td>\n",
       "      <td>55.8940</td>\n",
       "      <td>69.4986</td>\n",
       "      <td>9.8038</td>\n",
       "      <td>-0.5479</td>\n",
       "      <td>-0.6613</td>\n",
       "    </tr>\n",
       "    <tr>\n",
       "      <th>2017-04-12</th>\n",
       "      <td>60.3042</td>\n",
       "      <td>56.9552</td>\n",
       "      <td>70.7384</td>\n",
       "      <td>10.4342</td>\n",
       "      <td>-0.4427</td>\n",
       "      <td>-0.4344</td>\n",
       "    </tr>\n",
       "    <tr>\n",
       "      <th>2017-04-13</th>\n",
       "      <td>60.2631</td>\n",
       "      <td>56.7556</td>\n",
       "      <td>70.9502</td>\n",
       "      <td>10.6871</td>\n",
       "      <td>-0.0411</td>\n",
       "      <td>-0.1996</td>\n",
       "    </tr>\n",
       "    <tr>\n",
       "      <th>2017-04-15</th>\n",
       "      <td>59.7791</td>\n",
       "      <td>56.2945</td>\n",
       "      <td>70.4413</td>\n",
       "      <td>10.6622</td>\n",
       "      <td>-0.5076</td>\n",
       "      <td>-0.3074</td>\n",
       "    </tr>\n",
       "  </tbody>\n",
       "</table>\n",
       "</div>"
      ],
      "text/plain": [
       "                EUR      USD      GBP  GBP-EUR  $\\Delta$ EUR  $\\Delta$ USD\n",
       "DATE                                                                      \n",
       "2017-04-06  59.6948  55.8940  69.4986   9.8038       -0.5479       -0.6613\n",
       "2017-04-12  60.3042  56.9552  70.7384  10.4342       -0.4427       -0.4344\n",
       "2017-04-13  60.2631  56.7556  70.9502  10.6871       -0.0411       -0.1996\n",
       "2017-04-15  59.7791  56.2945  70.4413  10.6622       -0.5076       -0.3074"
      ]
     },
     "execution_count": 25,
     "metadata": {},
     "output_type": "execute_result"
    }
   ],
   "source": [
    "df.loc[(df['$\\Delta$ USD'] < 0) & (df['$\\Delta$ EUR'] < 0)]"
   ]
  },
  {
   "cell_type": "markdown",
   "metadata": {},
   "source": [
    "Если к данным нужно обратиться по номеру строки, то используется свойство **.iloc**"
   ]
  },
  {
   "cell_type": "code",
   "execution_count": 26,
   "metadata": {},
   "outputs": [
    {
     "data": {
      "text/html": [
       "<div>\n",
       "<style scoped>\n",
       "    .dataframe tbody tr th:only-of-type {\n",
       "        vertical-align: middle;\n",
       "    }\n",
       "\n",
       "    .dataframe tbody tr th {\n",
       "        vertical-align: top;\n",
       "    }\n",
       "\n",
       "    .dataframe thead th {\n",
       "        text-align: right;\n",
       "    }\n",
       "</style>\n",
       "<table border=\"1\" class=\"dataframe\">\n",
       "  <thead>\n",
       "    <tr style=\"text-align: right;\">\n",
       "      <th></th>\n",
       "      <th>EUR</th>\n",
       "      <th>USD</th>\n",
       "      <th>GBP</th>\n",
       "      <th>GBP-EUR</th>\n",
       "      <th>$\\Delta$ EUR</th>\n",
       "      <th>$\\Delta$ USD</th>\n",
       "    </tr>\n",
       "    <tr>\n",
       "      <th>DATE</th>\n",
       "      <th></th>\n",
       "      <th></th>\n",
       "      <th></th>\n",
       "      <th></th>\n",
       "      <th></th>\n",
       "      <th></th>\n",
       "    </tr>\n",
       "  </thead>\n",
       "  <tbody>\n",
       "    <tr>\n",
       "      <th>2017-04-01</th>\n",
       "      <td>59.8107</td>\n",
       "      <td>55.9606</td>\n",
       "      <td>69.7605</td>\n",
       "      <td>9.9498</td>\n",
       "      <td>NaN</td>\n",
       "      <td>NaN</td>\n",
       "    </tr>\n",
       "    <tr>\n",
       "      <th>2017-04-04</th>\n",
       "      <td>59.8953</td>\n",
       "      <td>56.1396</td>\n",
       "      <td>70.3429</td>\n",
       "      <td>10.4476</td>\n",
       "      <td>0.0846</td>\n",
       "      <td>0.179</td>\n",
       "    </tr>\n",
       "  </tbody>\n",
       "</table>\n",
       "</div>"
      ],
      "text/plain": [
       "                EUR      USD      GBP  GBP-EUR  $\\Delta$ EUR  $\\Delta$ USD\n",
       "DATE                                                                      \n",
       "2017-04-01  59.8107  55.9606  69.7605   9.9498           NaN           NaN\n",
       "2017-04-04  59.8953  56.1396  70.3429  10.4476        0.0846         0.179"
      ]
     },
     "execution_count": 26,
     "metadata": {},
     "output_type": "execute_result"
    }
   ],
   "source": [
    "df.iloc[0:2]"
   ]
  },
  {
   "cell_type": "markdown",
   "metadata": {},
   "source": [
    "`Pandas` имеет большое количество функций для подсчет статистических характеристик наших данных. Например, посчитаем коэффицент корреляции между значениями доллара и евро"
   ]
  },
  {
   "cell_type": "code",
   "execution_count": 27,
   "metadata": {},
   "outputs": [
    {
     "data": {
      "text/plain": [
       "0.9529946342029497"
      ]
     },
     "execution_count": 27,
     "metadata": {},
     "output_type": "execute_result"
    }
   ],
   "source": [
    "df['USD'].corr(df['EUR'])"
   ]
  },
  {
   "cell_type": "markdown",
   "metadata": {},
   "source": [
    "Или математическое ожидание курсов валют"
   ]
  },
  {
   "cell_type": "code",
   "execution_count": 28,
   "metadata": {},
   "outputs": [
    {
     "data": {
      "text/plain": [
       "USD    56.536664\n",
       "EUR    60.152264\n",
       "GBP    70.509236\n",
       "dtype: float64"
      ]
     },
     "execution_count": 28,
     "metadata": {},
     "output_type": "execute_result"
    }
   ],
   "source": [
    "df[['USD', 'EUR', 'GBP']].mean()"
   ]
  },
  {
   "cell_type": "markdown",
   "metadata": {},
   "source": [
    "Можно сразу визуализировать наши данные, с помощью специальных функций (используется библиотека `matplotlib`)"
   ]
  },
  {
   "cell_type": "markdown",
   "metadata": {},
   "source": [
    "#### Визуализация"
   ]
  },
  {
   "cell_type": "code",
   "execution_count": 29,
   "metadata": {},
   "outputs": [
    {
     "data": {
      "text/plain": [
       "<matplotlib.axes._subplots.AxesSubplot at 0x7f17fb198f60>"
      ]
     },
     "execution_count": 29,
     "metadata": {},
     "output_type": "execute_result"
    },
    {
     "data": {
      "image/png": "[encoded data removed]",
      "text/plain": [
       "<matplotlib.figure.Figure at 0x7f17fb5a3a90>"
      ]
     },
     "metadata": {
      "needs_background": "light"
     },
     "output_type": "display_data"
    }
   ],
   "source": [
    "%matplotlib inline\n",
    "\n",
    "\n",
    "df[['USD', 'EUR']].plot()"
   ]
  },
  {
   "cell_type": "markdown",
   "metadata": {},
   "source": [
    "#### Сохранение"
   ]
  },
  {
   "cell_type": "markdown",
   "metadata": {},
   "source": [
    "`DataFrame` можно сохранить в `CSV`-файл, `Excel` и в другие форматы:\n",
    "\n",
    "> df.to_csv('data/curr.csv')\n",
    "\n",
    "> df.to_excel('data/curr.xsl')"
   ]
  }
 ],
 "metadata": {
  "kernelspec": {
   "display_name": "Python 3",
   "language": "python",
   "name": "python3"
  },
  "language_info": {
   "codemirror_mode": {
    "name": "ipython",
    "version": 3
   },
   "file_extension": ".py",
   "mimetype": "text/x-python",
   "name": "python",
   "nbconvert_exporter": "python",
   "pygments_lexer": "ipython3",
   "version": "3.6.6"
  }
 },
 "nbformat": 4,
 "nbformat_minor": 2
}
